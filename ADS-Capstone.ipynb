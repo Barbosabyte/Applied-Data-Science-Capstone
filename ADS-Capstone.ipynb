{
 "cells": [
  {
   "cell_type": "markdown",
   "id": "revolutionary-jurisdiction",
   "metadata": {},
   "source": [
    "<center><img src='ADS_Capstone.png'></center>"
   ]
  },
  {
   "cell_type": "markdown",
   "id": "satellite-ukraine",
   "metadata": {},
   "source": [
    "<center><h1>Applied Data Science Capstone Project</h1>\n",
    "This is the Jupyter notebook used on the Applied Data Science Capstone, part of the IBM Data Science Professional Certificate on Coursera.</center>"
   ]
  },
  {
   "cell_type": "markdown",
   "id": "australian-nicaragua",
   "metadata": {},
   "source": [
    "<center><h2>Week 1</h2></center>"
   ]
  },
  {
   "cell_type": "code",
   "execution_count": 1,
   "id": "soviet-universal",
   "metadata": {},
   "outputs": [],
   "source": [
    "import pandas as pd\n",
    "import numpy as np"
   ]
  },
  {
   "cell_type": "code",
   "execution_count": 2,
   "id": "compliant-mayor",
   "metadata": {},
   "outputs": [
    {
     "name": "stdout",
     "output_type": "stream",
     "text": [
      "Hello Capstone Project Course!\n"
     ]
    }
   ],
   "source": [
    "print('Hello Capstone Project Course!')"
   ]
  },
  {
   "cell_type": "markdown",
   "id": "infrared-grant",
   "metadata": {},
   "source": [
    "<center><h2>Week 2</h2></center>"
   ]
  },
  {
   "cell_type": "markdown",
   "id": "horizontal-democrat",
   "metadata": {},
   "source": [
    "I stored my Foursquare credentials in a separate file (.env), added it to .gitignore!pi and I will use the python-dotenv package to read them.  \n",
    "This way the credentials don't get exposed on GitHub."
   ]
  },
  {
   "cell_type": "code",
   "execution_count": 3,
   "id": "indian-model",
   "metadata": {},
   "outputs": [
    {
     "name": "stdout",
     "output_type": "stream",
     "text": [
      "Credentials loaded\n"
     ]
    }
   ],
   "source": [
    "#!pip install python-dotenv\n",
    "%load_ext dotenv\n",
    "%dotenv\n",
    "import os\n",
    "fs_id = os.getenv(\"client_id\")\n",
    "fs_sec = os.getenv(\"client_sec\")\n",
    "print('Credentials loaded')"
   ]
  },
  {
   "cell_type": "markdown",
   "id": "motivated-danger",
   "metadata": {},
   "source": [
    "<center><h2>Week 3</h2></center>"
   ]
  },
  {
   "cell_type": "code",
   "execution_count": null,
   "id": "knowing-violence",
   "metadata": {},
   "outputs": [],
   "source": []
  },
  {
   "cell_type": "markdown",
   "id": "vanilla-twenty",
   "metadata": {},
   "source": [
    "<center><h2>Week 4</h2></center>"
   ]
  },
  {
   "cell_type": "code",
   "execution_count": null,
   "id": "twelve-newton",
   "metadata": {},
   "outputs": [],
   "source": []
  },
  {
   "cell_type": "markdown",
   "id": "outstanding-magazine",
   "metadata": {},
   "source": [
    "<center><h2>Week 5</h2></center>"
   ]
  },
  {
   "cell_type": "code",
   "execution_count": null,
   "id": "russian-little",
   "metadata": {},
   "outputs": [],
   "source": []
  }
 ],
 "metadata": {
  "kernelspec": {
   "display_name": "Python 3",
   "language": "python",
   "name": "python3"
  },
  "language_info": {
   "codemirror_mode": {
    "name": "ipython",
    "version": 3
   },
   "file_extension": ".py",
   "mimetype": "text/x-python",
   "name": "python",
   "nbconvert_exporter": "python",
   "pygments_lexer": "ipython3",
   "version": "3.9.1"
  }
 },
 "nbformat": 4,
 "nbformat_minor": 5
}
